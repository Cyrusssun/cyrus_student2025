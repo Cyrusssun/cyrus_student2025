{
 "cells": [
  {
   "cell_type": "raw",
   "id": "6e07d1a7",
   "metadata": {
    "vscode": {
     "languageId": "raw"
    }
   },
   "source": [
    "---\n",
    "layout: post\n",
    "title: \"Escape Room 3.15 - Hacks & Extensions\"\n",
    "description: \"Extended Python challenges and hacks for CSP 3.15 Escape Room - Random Values\"\n",
    "type: hacks\n",
    "toc: true\n",
    "comments: true\n",
    "permalink: /3.15/homework/python\n",
    "author: Team Debuggers\n",
    "---\n"
   ]
  },
  {
   "cell_type": "markdown",
   "id": "9f874417",
   "metadata": {},
   "source": [
    "# 🚀 Escape Room Python Hacks\n"
   ]
  },
  {
   "cell_type": "markdown",
   "id": "7aedbe34",
   "metadata": {},
   "source": [
    "1. Simulate rolling two dice and show all possible sums of their outcomes."
   ]
  },
  {
   "cell_type": "code",
   "execution_count": 1,
   "id": "a73638bf",
   "metadata": {},
   "outputs": [
    {
     "name": "stdout",
     "output_type": "stream",
     "text": [
      "All possible sums (36 outcomes): [2, 3, 4, 5, 6, 7, 3, 4, 5, 6, 7, 8, 4, 5, 6, 7, 8, 9, 5, 6, 7, 8, 9, 10, 6, 7, 8, 9, 10, 11, 7, 8, 9, 10, 11, 12]\n",
      "Unique sums: [2, 3, 4, 5, 6, 7, 8, 9, 10, 11, 12]\n",
      "Frequencies: {2: 1, 3: 2, 4: 3, 5: 4, 6: 5, 7: 6, 8: 5, 9: 4, 10: 3, 11: 2, 12: 1}\n"
     ]
    }
   ],
   "source": [
    "# 🎲 Die faces: 1, 2, 3, 4, 5, 6\n",
    "# Calculate and display all possible sums of two dice (nested loops)\n",
    "sums = []\n",
    "for d1 in range(1, 7):\n",
    "    for d2 in range(1, 7):\n",
    "        sums.append(d1 + d2)\n",
    "\n",
    "print(\"All possible sums (36 outcomes):\", sums)\n",
    "print(\"Unique sums:\", sorted(set(sums)))\n",
    "from collections import Counter\n",
    "print(\"Frequencies:\", dict(Counter(sums)))\n"
   ]
  },
  {
   "cell_type": "markdown",
   "id": "323ac43a",
   "metadata": {},
   "source": [
    "2. Create a fortune teller program. The response \"Try Again\" should appear 40% of the time, while the other possible responses are \"Yes\", \"No\", and \"Maybe\"."
   ]
  },
  {
   "cell_type": "code",
   "execution_count": 46,
   "id": "c608c7e8",
   "metadata": {},
   "outputs": [
    {
     "name": "stdout",
     "output_type": "stream",
     "text": [
      "Maybe\n"
     ]
    }
   ],
   "source": [
    "import random\n",
    "\n",
    "# 🔮 Fortune Teller\n",
    "# Generate a random number between 1 and 100\n",
    "num = random.randint(1, 100)\n",
    "\n",
    "# Try Again should appear 40% of the time\n",
    "if num <= 40:\n",
    "    print(\"Try Again\")\n",
    "elif num <= 65:  # next 25%\n",
    "    print(\"Yes\")\n",
    "elif num <= 85:  # next 20%\n",
    "    print(\"No\")\n",
    "else:  # remaining 15%\n",
    "    print(\"Maybe\")\n"
   ]
  },
  {
   "cell_type": "markdown",
   "id": "f5f6ad02",
   "metadata": {},
   "source": [
    "3. Create a program that randomly selects a meal from a menu list. For example: \"Pizza\", \"Burger\", \"Salad\", \"Pasta\", \"Sushi\"."
   ]
  },
  {
   "cell_type": "code",
   "execution_count": 6,
   "id": "623d5cec",
   "metadata": {},
   "outputs": [
    {
     "name": "stdout",
     "output_type": "stream",
     "text": [
      "Tonight's meal: Pasta\n"
     ]
    }
   ],
   "source": [
    "import random\n",
    "\n",
    "# 🍔 Menu list of meals\n",
    "meals = [\"Pizza\", \"Burger\", \"Salad\", \"Pasta\", \"Sushi\"]\n",
    "\n",
    "# Pick one random meal\n",
    "choice = random.choice(meals)\n",
    "print(\"Tonight's meal:\", choice)\n"
   ]
  },
  {
   "cell_type": "markdown",
   "id": "e230199d",
   "metadata": {},
   "source": [
    "4. Practice using random.choice() and random.shuffle().\n",
    "\n",
    "- Use random.choice() to select one random card from a deck.\n",
    "\n",
    "- Use random.shuffle() to shuffle the entire deck."
   ]
  },
  {
   "cell_type": "code",
   "execution_count": 8,
   "id": "9efcd451",
   "metadata": {},
   "outputs": [
    {
     "name": "stdout",
     "output_type": "stream",
     "text": [
      "Picked card: 1\n",
      "Shuffled deck: [6, 2, 1, 3, 10, 9, 5, 4, 8, 7]\n"
     ]
    }
   ],
   "source": [
    "import random\n",
    "\n",
    "# 🃏 Deck of cards (simplified as numbers 1–10 for this example)\n",
    "deck = [1,2,3,4,5,6,7,8,9,10]\n",
    "\n",
    "# Use random.choice() to pick one card\n",
    "picked = random.choice(deck)\n",
    "print(\"Picked card:\", picked)\n",
    "\n",
    "# Use random.shuffle() to shuffle the deck and print it\n",
    "random.shuffle(deck)\n",
    "print(\"Shuffled deck:\", deck)\n"
   ]
  }
 ],
 "metadata": {
  "kernelspec": {
   "display_name": "venv (3.12.11)",
   "language": "python",
   "name": "python3"
  },
  "language_info": {
   "codemirror_mode": {
    "name": "ipython",
    "version": 3
   },
   "file_extension": ".py",
   "mimetype": "text/x-python",
   "name": "python",
   "nbconvert_exporter": "python",
   "pygments_lexer": "ipython3",
   "version": "3.12.11"
  }
 },
 "nbformat": 4,
 "nbformat_minor": 5
}
