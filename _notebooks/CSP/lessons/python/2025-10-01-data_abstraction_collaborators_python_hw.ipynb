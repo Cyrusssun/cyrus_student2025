{
 "cells": [
  {
   "cell_type": "raw",
   "metadata": {
    "vscode": {
     "languageId": "raw"
    }
   },
   "source": [
    "---\n",
    "layout: post\n",
    "title: Data Abstraction Homework Python\n",
    "description: Quick practice with Javascript Lists\n",
    "permalink: /python/data-abstraction/collaborators-hw \n",
    "Author: Nitya R, Alice L, Brandon C\n",
    "---"
   ]
  },
  {
   "cell_type": "code",
   "execution_count": 6,
   "metadata": {},
   "outputs": [
    {
     "name": "stdout",
     "output_type": "stream",
     "text": [
      "Students: Aiden, Maya, Rui\n",
      "First student: Aiden - 92\n",
      "After adding Dana: Aiden, Maya, Rui, Cyrus\n",
      "After removing Paul: Aiden, Maya, Rui, Cyrus\n",
      "\n",
      "Final Scores:\n",
      "Aiden - 97\n",
      "Maya - 90\n",
      "Rui - 83\n",
      "Cyrus - 100\n",
      "\n",
      "Favorite Foods:\n",
      "humbergur\n",
      "pizza\n",
      "icecream\n"
     ]
    }
   ],
   "source": [
    "# 📝 Data Abstraction Hack (Python Version)\n",
    "\n",
    "# --- Instructions ---\n",
    "# 1. Edit the `students` list to use your own names (friends, classmates, etc.).\n",
    "# 2. Edit the `scores` list to assign each student a score of your choice.\n",
    "# 3. Run this program to see how the output changes automatically.\n",
    "# 4. After experimenting with `students` and `scores`, complete the 🚀 Hack Challenge at the bottom.\n",
    "\n",
    "# --- 1. Define lists ---\n",
    "students = [\"Aiden\", \"Maya\", \"Rui\"]\n",
    "scores = [92, 85, 78]\n",
    "\n",
    "# --- 2. Print roster ---\n",
    "print(\"Students:\", \", \".join(students))\n",
    "\n",
    "# --- 3. Print first student and score ---\n",
    "print(\"First student:\", students[0], \"-\", scores[0])\n",
    "\n",
    "# --- 4. Add a new student and score ---\n",
    "students.append(\"Cyrus\")\n",
    "scores.append(95)\n",
    "print(\"After adding Dana:\", \", \".join(students))\n",
    "\n",
    "# --- 5. Remove a student who transfers out ---\n",
    "if \"Paul\" in students:\n",
    "    index = students.index(\"Paul\")\n",
    "    students.pop(index)\n",
    "    scores.pop(index)\n",
    "print(\"After removing Paul:\", \", \".join(students))\n",
    "\n",
    "# --- 6. Curve all scores by +5 ---\n",
    "for i in range(len(scores)):\n",
    "    scores[i] += 5\n",
    "\n",
    "# --- 7. Print each student with score ---\n",
    "print(\"\\nFinal Scores:\")\n",
    "for i in range(len(students)):\n",
    "    print(students[i], \"-\", scores[i])\n",
    "\n",
    "# --- 8. Hack Challenge: create new list ---\n",
    "favorite_foods = [\"humbergur\", \"pizza\", \"icecream\"]\n",
    "\n",
    "print(\"\\nFavorite Foods:\")\n",
    "for food in favorite_foods:\n",
    "    print(food)\n"
   ]
  }
 ],
 "metadata": {
  "kernelspec": {
   "display_name": "venv (3.12.11)",
   "language": "python",
   "name": "python3"
  },
  "language_info": {
   "codemirror_mode": {
    "name": "ipython",
    "version": 3
   },
   "file_extension": ".py",
   "mimetype": "text/x-python",
   "name": "python",
   "nbconvert_exporter": "python",
   "pygments_lexer": "ipython3",
   "version": "3.12.11"
  }
 },
 "nbformat": 4,
 "nbformat_minor": 2
}
