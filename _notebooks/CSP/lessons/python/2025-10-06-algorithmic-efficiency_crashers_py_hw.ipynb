{
 "cells": [
  {
   "cell_type": "raw",
   "id": "4e3e77eb",
   "metadata": {
    "vscode": {
     "languageId": "raw"
    }
   },
   "source": [
    "---\n",
    "layout: post\n",
    "title: \"Crashers - 3.17 Algorithmic Efficiency Python Hacks\"\n",
    "categories: [Python]\n",
    "tags: [python, javascript, algorithms, lesson, beginner]\n",
    "description: Learn about algorithms and how they can be more or less efficient\n",
    "permalink: /python/algorithmic-efficiency/crashers-hw\n",
    "---"
   ]
  },
  {
   "cell_type": "markdown",
   "id": "825f983c",
   "metadata": {},
   "source": [
    "## Algorithmic Efficiency Hacks: Python\n",
    "\n",
    "Let's test your knowledge on algorithmic efficiency!\n",
    "\n",
    "### Hack 1: How Much Time?\n",
    "\n",
    "#### Objective: write the time complexity of the algorithm below using Big-O notation.\n",
    "(don't worry about special cases such as n = 1 or n = 0)."
   ]
  },
  {
   "cell_type": "code",
   "execution_count": 1,
   "id": "1fc4bcce",
   "metadata": {},
   "outputs": [
    {
     "name": "stdout",
     "output_type": "stream",
     "text": [
      "0\n",
      "1\n",
      "2\n",
      "3\n",
      "4\n",
      "# Time complexity: O(n)\n"
     ]
    }
   ],
   "source": [
    "try:\n",
    "    n = int(input())\n",
    "except Exception:\n",
    "    n = 5\n",
    "\n",
    "for i in range(n):\n",
    "    print(i)\n",
    "\n",
    "print(\"# Time complexity: O(n)\")"
   ]
  },
  {
   "cell_type": "markdown",
   "id": "4e562838",
   "metadata": {},
   "source": [
    "### Hack 2: Your Turn!\n",
    "\n",
    "#### Objective: <strong>write</strong> an algorithm with O(n^2) time complexity."
   ]
  },
  {
   "cell_type": "code",
   "execution_count": 2,
   "id": "f9394969",
   "metadata": {},
   "outputs": [
    {
     "name": "stdout",
     "output_type": "stream",
     "text": [
      "# Time complexity: O(n^2)\n"
     ]
    }
   ],
   "source": [
    "try:\n",
    "    n = int(input())\n",
    "except Exception:\n",
    "    n = 4\n",
    "\n",
    "# Example O(n^2) algorithm: nested loops that visit all pairs\n",
    "for i in range(n):\n",
    "    for j in range(n):\n",
    "        # small operation to demonstrate quadratic work\n",
    "        _ = i * j\n",
    "\n",
    "print(\"# Time complexity: O(n^2)\")"
   ]
  },
  {
   "cell_type": "markdown",
   "id": "26d353f3",
   "metadata": {},
   "source": [
    "### Hack 3: Gotta Go Fast!\n",
    "\n",
    "#### Objective: Optimize this algorithm so that it has a lower time complexity <strong>without modifying the outer loop</strong>"
   ]
  },
  {
   "cell_type": "code",
   "execution_count": 3,
   "id": "83acbe82",
   "metadata": {},
   "outputs": [
    {
     "name": "stdout",
     "output_type": "stream",
     "text": [
      "70\n",
      "# Optimized: inner loop replaced by constant-time work per outer iteration\n",
      "# Time complexity: O(n)\n"
     ]
    }
   ],
   "source": [
    "import math\n",
    "try:\n",
    "    n = int(input())\n",
    "except Exception:\n",
    "    n = 10\n",
    "count = 0\n",
    "\n",
    "# Original inner loop ran math.ceil(math.sqrt(n)*2) times per outer iteration.\n",
    "# Keep outer loop but replace the inner loop with an O(1) addition to preserve the same total count.\n",
    "for i in range(n):\n",
    "    count += math.ceil(math.sqrt(n) * 2)\n",
    "\n",
    "print(count)\n",
    "print(\"# Optimized: inner loop replaced by constant-time work per outer iteration\")\n",
    "print(\"# Time complexity: O(n)\")"
   ]
  },
  {
   "cell_type": "markdown",
   "id": "e6e45a7b",
   "metadata": {},
   "source": [
    "### Hack 4: Extra Challenge \n",
    "\n",
    "#### Objective: Write an algorithm that does <strong>NOT</strong> have a time complexity of O(1), O(n), or O(n^x) and identify the time complexity\n",
    "##### (I will not accept O(n^3) or some other power, it needs to be more complex.)"
   ]
  },
  {
   "cell_type": "code",
   "execution_count": 4,
   "id": "87c33c6e",
   "metadata": {},
   "outputs": [
    {
     "name": "stdout",
     "output_type": "stream",
     "text": [
      "Generated 32 subsets for n=5\n",
      "# Time complexity: O(2^n) — exponential\n"
     ]
    }
   ],
   "source": [
    "try:\n",
    "    n = int(input())\n",
    "except Exception:\n",
    "    n = 5\n",
    "\n",
    "# Cap n to keep runtime reasonable in the notebook\n",
    "if n > 15:\n",
    "    print(\"n too large for full exponential generation in this environment; using n=15\")\n",
    "    n = 15\n",
    "\n",
    "# Generate all subsets of an n-element set (O(2^n) time)\n",
    "subsets_count = 0\n",
    "for mask in range(1 << n):\n",
    "    # constructing subset is part of work — keep it to demonstrate exponential work\n",
    "    subset = [i for i in range(n) if (mask >> i) & 1]\n",
    "    subsets_count += 1\n",
    "\n",
    "print(f\"Generated {subsets_count} subsets for n={n}\")\n",
    "print(\"# Time complexity: O(2^n) — exponential\")"
   ]
  }
 ],
 "metadata": {
  "kernelspec": {
   "display_name": "venv (3.12.11)",
   "language": "python",
   "name": "python3"
  },
  "language_info": {
   "codemirror_mode": {
    "name": "ipython",
    "version": 3
   },
   "file_extension": ".py",
   "mimetype": "text/x-python",
   "name": "python",
   "nbconvert_exporter": "python",
   "pygments_lexer": "ipython3",
   "version": "3.12.11"
  }
 },
 "nbformat": 4,
 "nbformat_minor": 5
}
