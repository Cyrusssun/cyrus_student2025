{
 "cells": [
  {
   "cell_type": "raw",
   "id": "cae8bc40",
   "metadata": {
    "vscode": {
     "languageId": "raw"
    }
   },
   "source": [
    "---\n",
    "layout: post\n",
    "title: Lists Hacks Javascript\n",
    "description: This is a CSP Hacks notebook based on the lists lesson\n",
    "comments: true\n",
    "permalink: /csp/big-idea-3/<lists>/<4>/javascript_hw\n",
    "---"
   ]
  },
  {
   "cell_type": "markdown",
   "id": "44bdd529",
   "metadata": {},
   "source": [
    "# Javascript Lists Homework"
   ]
  },
  {
   "cell_type": "markdown",
   "id": "6a975112",
   "metadata": {},
   "source": [
    "- After going through the lists lesson work on these hacks in your own repository"
   ]
  },
  {
   "cell_type": "markdown",
   "id": "4b1ccc5c",
   "metadata": {},
   "source": [
    "### Hack 1 – Add Up Numbers\n",
    "\n",
    "Make a list of numbers. Write code to:\n",
    "1. Find the total sum.\n",
    "2. Find the average."
   ]
  },
  {
   "cell_type": "code",
   "execution_count": 6,
   "id": "9fc29a1a",
   "metadata": {
    "vscode": {
     "languageId": "javascript"
    }
   },
   "outputs": [
    {
     "data": {
      "application/javascript": "(function(){\n  var numbers = [4, 7, 1, 9, 6, 7, 10];\n  var sum = 0;\n  for (var i = 0; i < numbers.length; i++) sum += numbers[i];\n  var avg = sum / numbers.length;\n  var out = 'Numbers: ' + JSON.stringify(numbers) + '\\n' + 'Sum: ' + sum + '\\n' + 'Average: ' + avg + '\\n';\n  var pre = document.createElement('pre');\n  pre.textContent = out;\n  element.append(pre);\n})();\n",
      "text/plain": [
       "<IPython.core.display.Javascript object>"
      ]
     },
     "metadata": {},
     "output_type": "display_data"
    }
   ],
   "source": [
    "%%javascript\n",
    "(function(){\n",
    "  var numbers = [4, 7, 1, 9, 6, 7, 10];\n",
    "  var sum = 0;\n",
    "  for (var i = 0; i < numbers.length; i++) sum += numbers[i];\n",
    "  var avg = sum / numbers.length;\n",
    "  var out = 'Numbers: ' + JSON.stringify(numbers) + '\\n' + 'Sum: ' + sum + '\\n' + 'Average: ' + avg + '\\n';\n",
    "  var pre = document.createElement('pre');\n",
    "  pre.textContent = out;\n",
    "  element.append(pre);\n",
    "})();"
   ]
  },
  {
   "cell_type": "markdown",
   "id": "519b9811",
   "metadata": {},
   "source": [
    "### Hack 2 – Count Repeats\n",
    "\n",
    "Make a list with repeated items. Write code to count how many times each item appears."
   ]
  },
  {
   "cell_type": "code",
   "execution_count": 5,
   "id": "b9e989ea",
   "metadata": {
    "vscode": {
     "languageId": "javascript"
    }
   },
   "outputs": [
    {
     "data": {
      "application/javascript": "(function(){\n  var items = ['cat','dog','cat','bird','bird','bird'];\n  var counts = {};\n  for (var i=0;i<items.length;i++) counts[items[i]] = (counts[items[i]]||0)+1;\n  var out = 'Items: ' + JSON.stringify(items) + '\\n' + 'Counts: ' + JSON.stringify(counts) + '\\n';\n  var pre = document.createElement('pre');\n  pre.textContent = out;\n  element.append(pre);\n})();\n",
      "text/plain": [
       "<IPython.core.display.Javascript object>"
      ]
     },
     "metadata": {},
     "output_type": "display_data"
    }
   ],
   "source": [
    "%%javascript\n",
    "(function(){\n",
    "  var items = ['cat','dog','cat','bird','bird','bird'];\n",
    "  var counts = {};\n",
    "  for (var i=0;i<items.length;i++) counts[items[i]] = (counts[items[i]]||0)+1;\n",
    "  var out = 'Items: ' + JSON.stringify(items) + '\\n' + 'Counts: ' + JSON.stringify(counts) + '\\n';\n",
    "  var pre = document.createElement('pre');\n",
    "  pre.textContent = out;\n",
    "  element.append(pre);\n",
    "})();"
   ]
  },
  {
   "cell_type": "markdown",
   "id": "800ed729",
   "metadata": {},
   "source": [
    "### Hack 3 – Keep Only Evens\n",
    "\n",
    "Make a list of numbers. Write code to create a new list with only even numbers."
   ]
  },
  {
   "cell_type": "code",
   "execution_count": 7,
   "id": "4f7fc860",
   "metadata": {
    "vscode": {
     "languageId": "javascript"
    }
   },
   "outputs": [
    {
     "data": {
      "application/javascript": "(function(){\n  var numbers = [3, 8, 5, 12, 7, 9, 13, 31, 66, 18];\n  var evens = numbers.filter(function(n){ return n%2===0 });\n  var out = 'Numbers: ' + JSON.stringify(numbers) + '\\n' + 'Evens: ' + JSON.stringify(evens) + '\\n';\n  var pre = document.createElement('pre');\n  pre.textContent = out;\n  element.append(pre);\n})();\n",
      "text/plain": [
       "<IPython.core.display.Javascript object>"
      ]
     },
     "metadata": {},
     "output_type": "display_data"
    }
   ],
   "source": [
    "%%javascript\n",
    "(function(){\n",
    "  var numbers = [3, 8, 5, 12, 7, 9, 13, 31, 66, 18];\n",
    "  var evens = numbers.filter(function(n){ return n%2===0 });\n",
    "  var out = 'Numbers: ' + JSON.stringify(numbers) + '\\n' + 'Evens: ' + JSON.stringify(evens) + '\\n';\n",
    "  var pre = document.createElement('pre');\n",
    "  pre.textContent = out;\n",
    "  element.append(pre);\n",
    "})();"
   ]
  }
 ],
 "metadata": {
  "kernelspec": {
   "display_name": "venv (3.12.11)",
   "language": "python",
   "name": "python3"
  },
  "language_info": {
   "codemirror_mode": {
    "name": "ipython",
    "version": 3
   },
   "file_extension": ".py",
   "mimetype": "text/x-python",
   "name": "python",
   "nbconvert_exporter": "python",
   "pygments_lexer": "ipython3",
   "version": "3.12.11"
  }
 },
 "nbformat": 4,
 "nbformat_minor": 5
}
