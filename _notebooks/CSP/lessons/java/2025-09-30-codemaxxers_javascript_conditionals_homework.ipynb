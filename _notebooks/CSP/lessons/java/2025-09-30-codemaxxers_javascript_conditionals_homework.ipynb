{
 "cells": [
  {
   "cell_type": "raw",
   "id": "f9ba8574",
   "metadata": {},
   "source": [
    "---\n",
    "title: \"Conditionals in JavaScript - Hacks\"\n",
    "description: \"Three scaffolded hacks to practice selection (if, else if, else) in JavaScript. No nesting.\"\n",
    "layout: post\n",
    "permalink: /csp/codemaxxers/conditionals/p4/hacks-js/\n",
    "---\n"
   ]
  },
  {
   "cell_type": "markdown",
   "id": "3c712f87",
   "metadata": {},
   "source": [
    "\n",
    "# 🌐 CSP 3.6 Hacks — Conditionals (JavaScript)\n",
    "\n",
    "You will complete **three** small programs that use selection with `if`, `else if`, `else` \n",
    "\n",
    "Answers to common errors:\n",
    "- Please select the JavaScript kernel when running the code, do NOT select python\n",
    "- If the code reports random errors try pressing restart at the top bar\n",
    "- If you get stuck on a problem, make comments about what you understand so far and what you are stuck on\n"
   ]
  },
  {
   "cell_type": "markdown",
   "id": "841773a2",
   "metadata": {},
   "source": [
    "\n",
    "## 🟢 Hack 1 — Number Range Checker (Beginner)\n",
    "\n",
    "**Requirements (spec):**\n",
    "- Ask for a number.\n",
    "- If the number is **between 0 and 10** (inclusive), print the number **then** print `Goodbye`.\n",
    "- Otherwise, print only `Goodbye!`.\n",
    "- Use one `if / else` and combine comparisons with `&&`.\n",
    "\n",
    "**Tips:** use `parseInt(..., 10)`; inclusive means `>=` and `<=`.\n"
   ]
  },
  {
   "cell_type": "code",
   "execution_count": 3,
   "id": "496c38dc",
   "metadata": {
    "vscode": {
     "languageId": "javascript"
    }
   },
   "outputs": [
    {
     "name": "stdout",
     "output_type": "stream",
     "text": [
      "7\n",
      "Goodbye\n"
     ]
    }
   ],
   "source": [
    "num = 7\n",
    "if 0 <= num <= 10:\n",
    "    print(num)\n",
    "    print(\"Goodbye\")\n",
    "else:\n",
    "    print(\"Goodbye!\")"
   ]
  },
  {
   "cell_type": "markdown",
   "id": "93ed4d77",
   "metadata": {},
   "source": [
    "\n",
    "## 🟡 Hack 2 — Grade Evaluator (Intermediate)\n",
    "\n",
    "**Requirements (spec):**\n",
    "- Ask for a grade `0–100`.\n",
    "- If `grade >= 75`, print two lines: `You get extra credit!` then `Have a good day`.\n",
    "- Otherwise, print `Have a good day` only.\n",
    "\n",
    "\n"
   ]
  },
  {
   "cell_type": "code",
   "execution_count": null,
   "id": "e89c7c78",
   "metadata": {
    "vscode": {
     "languageId": "javascript"
    }
   },
   "outputs": [],
   "source": [
    "grade = 85\n",
    "if grade >= 90:\n",
    "    print(\"A\")\n",
    "    print(\"Have a good day\")\n",
    "elif grade >= 87:\n",
    "    print('Can be rounded to an \"A\"')\n",
    "    print(\"Have a good day\")\n",
    "else:\n",
    "    print(\"Have a good day\")"
   ]
  },
  {
   "cell_type": "markdown",
   "id": "c9774090",
   "metadata": {},
   "source": [
    "\n",
    "## 🔵 Hack 3 — Access Pass (Advanced)\n",
    "\n",
    "**Inputs:** `age` (number), `has_ticket` (`\"yes\"/\"no\"`), `vip` (`\"yes\"/\"no\"`)\n",
    "\n",
    "**Rules**\n",
    "- If `vip === \"yes\"` → `VIP Entrance`\n",
    "- Else if `has_ticket === \"yes\"` **and** `age >= 16` → `General Entrance`\n",
    "- Else if `has_ticket === \"yes\"` **and** `age < 16` → `Minor Entrance (with guardian)`\n",
    "- Else → `No Entrance`\n",
    "\n",
    "**Tip:** normalize strings with `.trim().toLowerCase()`.\n"
   ]
  },
  {
   "cell_type": "code",
   "execution_count": 5,
   "id": "9c71990e",
   "metadata": {
    "vscode": {
     "languageId": "javascript"
    }
   },
   "outputs": [
    {
     "name": "stdout",
     "output_type": "stream",
     "text": [
      "Minor Entrance (with guardian)\n"
     ]
    }
   ],
   "source": [
    "age = 15\n",
    "has_ticket = \"yes\"\n",
    "vip = \"no\"\n",
    "h = has_ticket.strip().lower()\n",
    "v = vip.strip().lower()\n",
    "if v == 'yes':\n",
    "    print('VIP Entrance')\n",
    "elif h == 'yes' and age >= 16:\n",
    "    print('General Entrance')\n",
    "elif h == 'yes' and age < 16:\n",
    "    print('Minor Entrance (with guardian)')\n",
    "else:\n",
    "    print('No Entrance')"
   ]
  },
  {
   "cell_type": "markdown",
   "id": "398be899",
   "metadata": {},
   "source": [
    "\n",
    "---\n",
    "### Reflection: Think about the following question. Answer in 3-4 sentences\n",
    "- Did any of the question trip you up? If yes, explain the problem and your solution. If no, give a brief, 1-2 sentence summary of conditionals.\n",
    "- Can you think of real life examples where we would use conditionals? Please do NOT use one of the hacks as a real life example\n",
    "- How is javascript different from python in terms of conditionals?"
   ]
  },
  {
   "cell_type": "markdown",
   "id": "ed970992",
   "metadata": {},
   "source": [
    "\n",
    "---\n",
    "### 🧾 Turn-in checklist\n",
    "- [ ] All three hacks run and match the rules above them. \n",
    "- [ ] You included at least one changed element for at least one hack, this can be change of message, the range, or the input information (not the input, the prompt for the input). Do not just change the input and call that your personal change.\n",
    "- [ ] You wrote a 2–3 sentence reflection in your portfolio:  \n",
    "  - What conditional form did you use most?  \n",
    "  - What would you like to add to the lesson that would help you better understand the material?\n"
   ]
  }
 ],
 "metadata": {
  "kernelspec": {
   "display_name": "venv (3.12.11)",
   "language": "python",
   "name": "python3"
  },
  "language_info": {
   "codemirror_mode": {
    "name": "ipython",
    "version": 3
   },
   "file_extension": ".py",
   "mimetype": "text/x-python",
   "name": "python",
   "nbconvert_exporter": "python",
   "pygments_lexer": "ipython3",
   "version": "3.12.11"
  }
 },
 "nbformat": 4,
 "nbformat_minor": 5
}
