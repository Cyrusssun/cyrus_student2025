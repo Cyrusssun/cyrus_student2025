{
 "cells": [
  {
   "cell_type": "raw",
   "id": "4e3e77eb",
   "metadata": {
    "vscode": {
     "languageId": "raw"
    }
   },
   "source": [
    "---\n",
    "layout: post\n",
    "title: \"Crashers - 3.17 Algorithmic Efficiency Javascript Hacks\"\n",
    "categories: [Javascript]\n",
    "tags: [python, javascript, algorithms, lesson, beginner]\n",
    "description: Learn about algorithms and how they can be more or less efficient\n",
    "permalink: /javascript/algorithmic-efficiency/crashers-hw\n",
    "---"
   ]
  },
  {
   "cell_type": "markdown",
   "id": "825f983c",
   "metadata": {},
   "source": [
    "## Algorithmic Efficiency Hacks: Javascript\n",
    "\n",
    "Let's test your knowledge on algorithmic efficiency!\n",
    "\n",
    "### Hack 1: How Much Time?\n",
    "\n",
    "#### Objective: write the time complexity of the algorithm below using Big-O notation.\n",
    "(don't worry about special cases such as n = 1 or n = 0)."
   ]
  },
  {
   "cell_type": "code",
   "execution_count": 1,
   "id": "1fc4bcce",
   "metadata": {
    "vscode": {
     "languageId": "javascript"
    }
   },
   "outputs": [
    {
     "data": {
      "application/javascript": "(function(){\n  // Hack 1: How Much Time?\n  let n = 10; // change this value to test different outputs!\n  const out = [];\n  for (let i = 0; i < n * 2; i++) {\n      out.push(i);\n  }\n  out.push('\\nTime complexity: O(n)');\n  const pre = document.createElement('pre'); pre.textContent = out.join('\\n'); element.append(pre);\n})();\n",
      "text/plain": [
       "<IPython.core.display.Javascript object>"
      ]
     },
     "metadata": {},
     "output_type": "display_data"
    }
   ],
   "source": [
    "%%javascript\n",
    "(function(){\n",
    "  // Hack 1: How Much Time?\n",
    "  let n = 10; // change this value to test different outputs!\n",
    "  const out = [];\n",
    "  for (let i = 0; i < n * 2; i++) {\n",
    "      out.push(i);\n",
    "  }\n",
    "  out.push('\\nTime complexity: O(n)');\n",
    "  const pre = document.createElement('pre'); pre.textContent = out.join('\\n'); element.append(pre);\n",
    "})();"
   ]
  },
  {
   "cell_type": "markdown",
   "id": "4e562838",
   "metadata": {},
   "source": [
    "### Hack 2: Your Turn!\n",
    "\n",
    "#### Objective: <strong>write</strong> an algorithm with O(n^2) time complexity."
   ]
  },
  {
   "cell_type": "code",
   "execution_count": 2,
   "id": "f9394969",
   "metadata": {
    "vscode": {
     "languageId": "javascript"
    }
   },
   "outputs": [
    {
     "data": {
      "application/javascript": "(function(){\n  // Hack 2: Your Turn! - O(n^2) example (nested loops)\n  const n = 10; // change this if you want.\n  let count = 0;\n  for (let i = 0; i < n; i++) {\n    for (let j = 0; j < n; j++) {\n      // work (constant) per inner iteration\n      count++;\n    }\n  }\n  const pre = document.createElement('pre');\n  pre.textContent = 'Count: ' + count + '\\nTime complexity: O(n^2)';\n  element.append(pre);\n})();\n",
      "text/plain": [
       "<IPython.core.display.Javascript object>"
      ]
     },
     "metadata": {},
     "output_type": "display_data"
    }
   ],
   "source": [
    "%%javascript\n",
    "(function(){\n",
    "  // Hack 2: Your Turn! - O(n^2) example (nested loops)\n",
    "  const n = 10; // change this if you want.\n",
    "  let count = 0;\n",
    "  for (let i = 0; i < n; i++) {\n",
    "    for (let j = 0; j < n; j++) {\n",
    "      // work (constant) per inner iteration\n",
    "      count++;\n",
    "    }\n",
    "  }\n",
    "  const pre = document.createElement('pre');\n",
    "  pre.textContent = 'Count: ' + count + '\\nTime complexity: O(n^2)';\n",
    "  element.append(pre);\n",
    "})();"
   ]
  },
  {
   "cell_type": "markdown",
   "id": "26d353f3",
   "metadata": {},
   "source": [
    "### Hack 3: Gotta Go Fast!\n",
    "\n",
    "#### Objective: Optimize this algorithm so that it has a lower time complexity <strong>without modifying the outer loop</strong>"
   ]
  },
  {
   "cell_type": "code",
   "execution_count": 3,
   "id": "83acbe82",
   "metadata": {
    "vscode": {
     "languageId": "javascript"
    }
   },
   "outputs": [
    {
     "data": {
      "application/javascript": "(function(){\n  // Hack 3: Gotta Go Fast! - optimize inner work without changing outer loop\n  const n = 10; // change this\n  let count = 0;\n\n  for (let i = 0; i < n; i++) { // Outer loop, DO NOT MODIFY\n    // Original inner loop did `for (let j = 0; j < i; j++) { count++; }`\n    // Optimized: add i directly (constant work per outer iteration)\n    count += i;\n  }\n\n  const pre = document.createElement('pre');\n  pre.textContent = 'Count: ' + count + '\\nTime complexity: O(n)';\n  element.append(pre);\n})();\n",
      "text/plain": [
       "<IPython.core.display.Javascript object>"
      ]
     },
     "metadata": {},
     "output_type": "display_data"
    }
   ],
   "source": [
    "%%javascript\n",
    "(function(){\n",
    "  // Hack 3: Gotta Go Fast! - optimize inner work without changing outer loop\n",
    "  const n = 10; // change this\n",
    "  let count = 0;\n",
    "\n",
    "  for (let i = 0; i < n; i++) { // Outer loop, DO NOT MODIFY\n",
    "    // Original inner loop did `for (let j = 0; j < i; j++) { count++; }`\n",
    "    // Optimized: add i directly (constant work per outer iteration)\n",
    "    count += i;\n",
    "  }\n",
    "\n",
    "  const pre = document.createElement('pre');\n",
    "  pre.textContent = 'Count: ' + count + '\\nTime complexity: O(n)';\n",
    "  element.append(pre);\n",
    "})();"
   ]
  },
  {
   "cell_type": "markdown",
   "id": "e6e45a7b",
   "metadata": {},
   "source": [
    "### Hack 4: Extra Challenge \n",
    "\n",
    "#### Objective: Write an algorithm that does <strong>NOT</strong> have a time complexity of O(1), O(n), or O(n^x) and identify the time complexity\n",
    "##### (I will not accept O(n^3) or some other power, it needs to be more complex.)"
   ]
  },
  {
   "cell_type": "code",
   "execution_count": 4,
   "id": "87c33c6e",
   "metadata": {},
   "outputs": [
    {
     "name": "stdout",
     "output_type": "stream",
     "text": [
      "Generated 32 subsets for n=5\n",
      "Example subsets (first 8): [[], [4], [3], [3, 4], [2], [2, 4], [2, 3], [2, 3, 4]]\n",
      "Time complexity: O(2^n)\n"
     ]
    }
   ],
   "source": [
    "# Hack 4: Extra Challenge - exponential-time example (O(2^n))\n",
    "# Read n from input if available, otherwise use a small default to avoid huge outputs\n",
    "try:\n",
    "    n = int(input().strip())\n",
    "except Exception:\n",
    "    n = 5\n",
    "\n",
    "# Generate all subsets of range(n) to demonstrate exponential work\n",
    "subsets = []\n",
    "\n",
    "def backtrack(i, curr):\n",
    "    if i == n:\n",
    "        subsets.append(list(curr))\n",
    "        return\n",
    "    # exclude i\n",
    "    backtrack(i + 1, curr)\n",
    "    # include i\n",
    "    curr.append(i)\n",
    "    backtrack(i + 1, curr)\n",
    "    curr.pop()\n",
    "\n",
    "backtrack(0, [])\n",
    "print(f'Generated {len(subsets)} subsets for n={n}')\n",
    "print('Example subsets (first 8):', subsets[:8])\n",
    "print('Time complexity: O(2^n)')\n"
   ]
  }
 ],
 "metadata": {
  "kernelspec": {
   "display_name": "venv (3.12.11)",
   "language": "python",
   "name": "python3"
  },
  "language_info": {
   "codemirror_mode": {
    "name": "ipython",
    "version": 3
   },
   "file_extension": ".py",
   "mimetype": "text/x-python",
   "name": "python",
   "nbconvert_exporter": "python",
   "pygments_lexer": "ipython3",
   "version": "3.12.11"
  }
 },
 "nbformat": 4,
 "nbformat_minor": 5
}
