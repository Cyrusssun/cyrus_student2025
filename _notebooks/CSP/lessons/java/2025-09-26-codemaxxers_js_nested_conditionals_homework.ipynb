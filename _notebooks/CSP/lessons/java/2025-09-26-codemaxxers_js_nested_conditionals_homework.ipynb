{
  "cells": [
    {
      "cell_type": "raw",
      "metadata": {
        "vscode": {
          "languageId": "raw"
        }
      },
      "source": [
        "---\n",
        "title: \"Nested Conditionals in Javascript - Homework\"\n",
        "description: \"Apply your skills of multilayered conditionals and combine all you've learned so far.\"\n",
        "layout: post\n",
        "permalink: /csp/codemaxxers/nested-conditionals-homework-js\n",
        "---"
      ]
    },
    {
      "cell_type": "markdown",
      "metadata": {},
      "source": [
        "# Nested Conditionals Homework: Javascript\n",
        "\n",
        "Complete the following three problems to practice working with nested conditionals. Each problem increases in difficulty. **All problems must be completed in JavaScript.**"
      ]
    },
    {
      "cell_type": "markdown",
      "metadata": {},
      "source": [
        "## Problem 1: Complete the Shipping Cost Calculator (Easy)\n",
        "\n",
        "An online store calculates shipping costs based on the order total and membership status. The partially completed code below needs to be finished.\n",
        "\n",
        "**Rules:**\n",
        "- If order total is $50 or more:\n",
        "  - Free shipping for members\n",
        "  - $5 shipping for non-members\n",
        "- If order total is less than $50:\n",
        "  - $3 shipping for members\n",
        "  - $8 shipping for non-members\n",
        "\n",
        "**Your task:** Complete the nested conditional so that when you run the code with the given initial values (`orderTotal = 45` and `isMember = true`), the output shows a shipping cost of **$3**."
      ]
    },
    {
      "cell_type": "code",
      "execution_count": 6,
      "metadata": {
        "vscode": {
          "languageId": "javascript"
        }
      },
      "outputs": [
        {
          "name": "stdout",
          "output_type": "stream",
          "text": [
            "Order Total: $45\n",
            "Member: True\n",
            "Shipping Cost: $3\n"
          ]
        }
      ],
      "source": [
        "# Initial conditions - DO NOT CHANGE THESE\n",
        "orderTotal = 45\n",
        "isMember = True\n",
        "shippingCost = 0\n",
        "\n",
        "print(f\"Order Total: ${orderTotal}\")\n",
        "print(f\"Member: {isMember}\")\n",
        "\n",
        "if orderTotal >= 50:\n",
        "    if isMember:\n",
        "        shippingCost = 0\n",
        "    else:\n",
        "        shippingCost = 5\n",
        "else:\n",
        "    if isMember:\n",
        "        shippingCost = 3\n",
        "    else:\n",
        "        shippingCost = 8\n",
        "\n",
        "print(f\"Shipping Cost: ${shippingCost}\")"
      ]
    },
    {
      "cell_type": "markdown",
      "metadata": {},
      "source": [
        "## Problem 2: Build a Restaurant Recommendation System (Medium)\n",
        "\n",
        "Create a system that recommends a restaurant based on the user's budget and cuisine preference.\n",
        "\n",
        "**Requirements:**\n",
        "- If budget is \"high\" (over $30 per person):\n",
        "  - If cuisine is \"italian\": recommend \"Bella Notte\"\n",
        "  - If cuisine is \"japanese\": recommend \"Sakura Palace\"\n",
        "  - For any other cuisine: recommend \"The Grand Bistro\"\n",
        "- If budget is \"medium\" ($15-$30 per person):\n",
        "  - If cuisine is \"italian\": recommend \"Mario's Pizzeria\"\n",
        "  - If cuisine is \"japanese\": recommend \"Tokyo Express\"\n",
        "  - For any other cuisine: recommend \"Downtown Diner\"\n",
        "- If budget is \"low\" (under $15 per person):\n",
        "  - Recommend \"Food Court\" regardless of cuisine preference\n",
        "\n",
        "**Your task:** Write the complete nested conditional structure. Store the recommendation in the `recommendation` variable."
      ]
    },
    {
      "cell_type": "code",
      "execution_count": 7,
      "metadata": {
        "vscode": {
          "languageId": "javascript"
        }
      },
      "outputs": [
        {
          "name": "stdout",
          "output_type": "stream",
          "text": [
            "Budget per person: $25\n",
            "Preferred cuisine: japanese\n",
            "\n",
            "Recommendation: Tokyo Express\n"
          ]
        }
      ],
      "source": [
        "# Test variables\n",
        "budgetPerPerson = 25\n",
        "cuisine = \"japanese\"\n",
        "recommendation = \"\"\n",
        "\n",
        "print(f\"Budget per person: ${budgetPerPerson}\")\n",
        "print(f\"Preferred cuisine: {cuisine}\")\n",
        "\n",
        "if budgetPerPerson > 30:\n",
        "    if cuisine == \"italian\":\n",
        "        recommendation = \"Bella Notte\"\n",
        "    elif cuisine == \"japanese\":\n",
        "        recommendation = \"Sakura Palace\"\n",
        "    else:\n",
        "        recommendation = \"The Grand Bistro\"\n",
        "elif budgetPerPerson >= 15:\n",
        "    if cuisine == \"italian\":\n",
        "        recommendation = \"Mario's Pizzeria\"\n",
        "    elif cuisine == \"japanese\":\n",
        "        recommendation = \"Tokyo Express\"\n",
        "    else:\n",
        "        recommendation = \"Downtown Diner\"\n",
        "else:\n",
        "    recommendation = \"Food Court\"\n",
        "\n",
        "print()\n",
        "print(f\"Recommendation: {recommendation}\")"
      ]
    },
    {
      "cell_type": "markdown",
      "metadata": {},
      "source": [
        "## Problem 3: Design a Smart Home Thermostat System (Hard)\n",
        "\n",
        "You're designing the logic for a smart thermostat that automatically adjusts temperature based on multiple factors.\n",
        "\n",
        "**Word Problem:**\n",
        "\n",
        "The thermostat needs to decide what action to take based on:\n",
        "- Current temperature\n",
        "- Whether anyone is home\n",
        "- Time of day (represented as \"day\" or \"night\")\n",
        "- Energy saving mode (on or off)\n",
        "\n",
        "**Logic Requirements:**\n",
        "\n",
        "1. **If someone is home:**\n",
        "   - During the day:\n",
        "     - If temp is above 75°F: set action to \"cooling\" and targetTemp to 72\n",
        "     - If temp is below 68°F: set action to \"heating\" and targetTemp to 70\n",
        "     - Otherwise: set action to \"maintaining\" and keep current temp\n",
        "   - During the night:\n",
        "     - If temp is above 72°F: set action to \"cooling\" and targetTemp to 68\n",
        "     - If temp is below 65°F: set action to \"heating\" and targetTemp to 68\n",
        "     - Otherwise: set action to \"maintaining\" and keep current temp\n",
        "\n",
        "2. **If no one is home:**\n",
        "   - If energy saving mode is ON:\n",
        "     - If temp is above 80°F: set action to \"cooling\" and targetTemp to 78\n",
        "     - If temp is below 60°F: set action to \"heating\" and targetTemp to 62\n",
        "     - Otherwise: set action to \"off\" and targetTemp to current temp\n",
        "   - If energy saving mode is OFF:\n",
        "     - Set action to \"maintaining\" and targetTemp to 70\n",
        "\n",
        "**Your task:** Design the complete nested conditional algorithm from scratch. You're given the framework below with initial values, but NO code. Write the entire logic yourself."
      ]
    },
    {
      "cell_type": "code",
      "execution_count": 9,
      "metadata": {
        "vscode": {
          "languageId": "javascript"
        }
      },
      "outputs": [
        {
          "name": "stdout",
          "output_type": "stream",
          "text": [
            "=== Smart Thermostat Status ===\n",
            "Current Temperature: 78°F\n",
            "Home Occupied: True\n",
            "Time of Day: day\n",
            "Energy Saving Mode: False\n",
            "\n",
            "=== Thermostat Action ===\n",
            "Action: cooling\n",
            "Target Temperature: 72°F\n"
          ]
        }
      ],
      "source": [
        "# Test variables\n",
        "currentTemp = 78\n",
        "isHomeOccupied = True\n",
        "timeOfDay = \"day\"  # \"day\" or \"night\"\n",
        "energySavingMode = False\n",
        "\n",
        "# Variables to set\n",
        "action = \"\"\n",
        "targetTemp = currentTemp\n",
        "\n",
        "print(\"=== Smart Thermostat Status ===\")\n",
        "print(f\"Current Temperature: {currentTemp}°F\")\n",
        "print(f\"Home Occupied: {isHomeOccupied}\")\n",
        "print(f\"Time of Day: {timeOfDay}\")\n",
        "print(f\"Energy Saving Mode: {energySavingMode}\")\n",
        "print()\n",
        "\n",
        "if isHomeOccupied:\n",
        "    if timeOfDay == \"day\":\n",
        "        if currentTemp > 75:\n",
        "            action = \"cooling\"\n",
        "            targetTemp = 72\n",
        "        elif currentTemp < 68:\n",
        "            action = \"heating\"\n",
        "            targetTemp = 70\n",
        "        else:\n",
        "            action = \"maintaining\"\n",
        "            targetTemp = currentTemp\n",
        "    else:\n",
        "        if currentTemp > 72:\n",
        "            action = \"cooling\"\n",
        "            targetTemp = 68\n",
        "        elif currentTemp < 65:\n",
        "            action = \"heating\"\n",
        "            targetTemp = 68\n",
        "        else:\n",
        "            action = \"maintaining\"\n",
        "            targetTemp = currentTemp\n",
        "else:\n",
        "    if energySavingMode:\n",
        "        if currentTemp > 80:\n",
        "            action = \"cooling\"\n",
        "            targetTemp = 78\n",
        "        elif currentTemp < 60:\n",
        "            action = \"heating\"\n",
        "            targetTemp = 62\n",
        "        else:\n",
        "            action = \"off\"\n",
        "            targetTemp = currentTemp\n",
        "    else:\n",
        "        action = \"maintaining\"\n",
        "        targetTemp = 70\n",
        "\n",
        "print(\"=== Thermostat Action ===\")\n",
        "print(f\"Action: {action}\")\n",
        "print(f\"Target Temperature: {targetTemp}°F\")"
      ]
    },
    {
      "cell_type": "markdown",
      "metadata": {},
      "source": [
        "## Reflection Questions\n",
        "\n",
        "After completing all three problems, answer these questions:\n",
        "\n",
        "1. Which problem was the most challenging and why?\n",
        "2. How did you decide on the structure of your nested conditionals in Problem 3?\n",
        "3. Can you think of a real-world situation where you would need even MORE levels of nesting than Problem 3?"
      ]
    }
  ],
  "metadata": {
    "kernelspec": {
      "display_name": "venv (3.12.11)",
      "language": "python",
      "name": "python3"
    },
    "language_info": {
      "codemirror_mode": {
        "name": "ipython",
        "version": 3
      },
      "file_extension": ".py",
      "mimetype": "text/x-python",
      "name": "python",
      "nbconvert_exporter": "python",
      "pygments_lexer": "ipython3",
      "version": "3.12.11"
    }
  },
  "nbformat": 4,
  "nbformat_minor": 4
}
