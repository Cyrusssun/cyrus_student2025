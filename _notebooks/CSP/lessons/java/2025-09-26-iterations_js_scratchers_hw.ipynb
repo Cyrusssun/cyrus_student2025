{
 "cells": [
  {
   "cell_type": "raw",
   "id": "e80f6f8a",
   "metadata": {
    "vscode": {
     "languageId": "raw"
    }
   },
   "source": [
    "---\n",
    "layout: base\n",
    "title: JavaScript Homework Iterations\n",
    "description: Homework for Iterations lesson in Python\n",
    "toc: False\n",
    "comments: False\n",
    "permalink: /csp/big-idea-3/scratchers/iterations/js_hw\n",
    "comments: true\n",
    "---"
   ]
  },
  {
   "cell_type": "markdown",
   "id": "eb0ef6f4",
   "metadata": {},
   "source": [
    "\n",
    "# 3.8 Iterations Homework in JavaScript\n",
    "\n",
    "Complete the 4 tasks below as homework:\n",
    "\n",
    "1. Uncomment the base code so you can work on adding what you need to produce the correct outputs  \n",
    "2. Use `console.log()` to display outputs  \n",
    "3. Some blanks (`_`) need to be replaced with numbers or code  \n",
    "4. Important!!! Under each JavaScript hack, be sure to add an image or screenshot of your outputs in console \n",
    "4. Have fun!\n",
    "\n"
   ]
  },
  {
   "cell_type": "markdown",
   "id": "59e26936",
   "metadata": {},
   "source": [
    "### 🧩 Task #1\n",
    "Write a `for` loop that prints the numbers **1 through 10**."
   ]
  },
  {
   "cell_type": "code",
   "execution_count": 1,
   "id": "1b6935a2",
   "metadata": {
    "vscode": {
     "languageId": "javascript"
    }
   },
   "outputs": [
    {
     "data": {
      "application/javascript": "(function(){\n  // Task 1: print numbers 1 through 10\n  let out = [];\n  for (let i = 1; i <= 10; i++) {\n    out.push(i);\n  }\n  const pre = document.createElement('pre'); pre.textContent = out.join('\\n'); element.append(pre);\n})();\n",
      "text/plain": [
       "<IPython.core.display.Javascript object>"
      ]
     },
     "metadata": {},
     "output_type": "display_data"
    }
   ],
   "source": [
    "%%javascript\n",
    "(function(){\n",
    "  // Task 1: print numbers 1 through 10\n",
    "  let out = [];\n",
    "  for (let i = 1; i <= 10; i++) {\n",
    "    out.push(i);\n",
    "  }\n",
    "  const pre = document.createElement('pre'); pre.textContent = out.join('\\n'); element.append(pre);\n",
    "})();"
   ]
  },
  {
   "cell_type": "markdown",
   "id": "3a3af773",
   "metadata": {},
   "source": [
    "### 🧩 Task #2\n",
    "Write a `while` loop that prints the even numbers between **2 and 20**."
   ]
  },
  {
   "cell_type": "code",
   "execution_count": 2,
   "id": "c268a9c2",
   "metadata": {
    "vscode": {
     "languageId": "javascript"
    }
   },
   "outputs": [
    {
     "data": {
      "application/javascript": "(function(){\n  // Task 2: print even numbers between 2 and 20 using while\n  let num = 2;\n  const vals = [];\n  while (num <= 20) {\n    vals.push(num);\n    num += 2;\n  }\n  const pre = document.createElement('pre'); pre.textContent = vals.join('\\n'); element.append(pre);\n})();\n",
      "text/plain": [
       "<IPython.core.display.Javascript object>"
      ]
     },
     "metadata": {},
     "output_type": "display_data"
    }
   ],
   "source": [
    "%%javascript\n",
    "(function(){\n",
    "  // Task 2: print even numbers between 2 and 20 using while\n",
    "  let num = 2;\n",
    "  const vals = [];\n",
    "  while (num <= 20) {\n",
    "    vals.push(num);\n",
    "    num += 2;\n",
    "  }\n",
    "  const pre = document.createElement('pre'); pre.textContent = vals.join('\\n'); element.append(pre);\n",
    "})();"
   ]
  },
  {
   "cell_type": "markdown",
   "id": "5b1ed81f",
   "metadata": {},
   "source": [
    "### 🧩 Task #3\n",
    "Make the following shape using iteration loops with the symbol `*`:\n",
    "```\n",
    "*\n",
    "**\n",
    "***\n",
    "****\n",
    "*****\n",
    "```"
   ]
  },
  {
   "cell_type": "code",
   "execution_count": 3,
   "id": "a002d4bd",
   "metadata": {
    "vscode": {
     "languageId": "javascript"
    }
   },
   "outputs": [
    {
     "data": {
      "application/javascript": "(function(){\n  // Task 3: print triangle of stars\n  let stars = \"\";\n  const lines = [];\n  for (let i = 1; i <= 5; i++) {\n    stars += \"*\";\n    lines.push(stars);\n  }\n  const pre = document.createElement('pre'); pre.textContent = lines.join('\\n'); element.append(pre);\n})();\n",
      "text/plain": [
       "<IPython.core.display.Javascript object>"
      ]
     },
     "metadata": {},
     "output_type": "display_data"
    }
   ],
   "source": [
    "%%javascript\n",
    "(function(){\n",
    "  // Task 3: print triangle of stars\n",
    "  let stars = \"\";\n",
    "  const lines = [];\n",
    "  for (let i = 1; i <= 5; i++) {\n",
    "    stars += \"*\";\n",
    "    lines.push(stars);\n",
    "  }\n",
    "  const pre = document.createElement('pre'); pre.textContent = lines.join('\\n'); element.append(pre);\n",
    "})();"
   ]
  },
  {
   "cell_type": "markdown",
   "id": "871d57b7",
   "metadata": {},
   "source": [
    "### 🧩 Task #4\n",
    "Use a loop to calculate the **sum of all numbers from 1 to 100**, and print the result."
   ]
  },
  {
   "cell_type": "code",
   "execution_count": 4,
   "id": "5bb0c3ab",
   "metadata": {
    "vscode": {
     "languageId": "javascript"
    }
   },
   "outputs": [
    {
     "data": {
      "application/javascript": "(function(){\n  // Task 4: sum numbers 1 to 100\n  let sum = 0;\n  for (let i = 1; i <= 100; i++) {\n    sum += i;\n  }\n  const pre = document.createElement('pre'); pre.textContent = 'The sum is: ' + sum; element.append(pre);\n})();\n",
      "text/plain": [
       "<IPython.core.display.Javascript object>"
      ]
     },
     "metadata": {},
     "output_type": "display_data"
    }
   ],
   "source": [
    "%%javascript\n",
    "(function(){\n",
    "  // Task 4: sum numbers 1 to 100\n",
    "  let sum = 0;\n",
    "  for (let i = 1; i <= 100; i++) {\n",
    "    sum += i;\n",
    "  }\n",
    "  const pre = document.createElement('pre'); pre.textContent = 'The sum is: ' + sum; element.append(pre);\n",
    "})();"
   ]
  }
 ],
 "metadata": {
  "kernelspec": {
   "display_name": "venv (3.12.11)",
   "language": "python",
   "name": "python3"
  },
  "language_info": {
   "codemirror_mode": {
    "name": "ipython",
    "version": 3
   },
   "file_extension": ".py",
   "mimetype": "text/x-python",
   "name": "python",
   "nbconvert_exporter": "python",
   "pygments_lexer": "ipython3",
   "version": "3.12.11"
  }
 },
 "nbformat": 4,
 "nbformat_minor": 5
}
