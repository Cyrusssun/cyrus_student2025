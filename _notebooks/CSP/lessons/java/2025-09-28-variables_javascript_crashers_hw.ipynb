{
 "cells": [
  {
   "cell_type": "raw",
   "id": "f7d70aa2",
   "metadata": {
    "vscode": {
     "languageId": "raw"
    }
   },
   "source": [
    "---\n",
    "layout: post\n",
    "title: \"3.1 Variables & Assignments hacks\"\n",
    "categories: [Programming Fundamentals, Tutorial]\n",
    "tags: [python, javascript, variables, assignment, beginner]\n",
    "description: Apply your understanding of Variables & Assignments with these hacks\n",
    "author: Aditya Srivastava, Laya Balaji\n",
    "permalink: /javascript/variables/crashers-hw\n",
    "---"
   ]
  },
  {
   "cell_type": "markdown",
   "id": "ce56910b",
   "metadata": {},
   "source": [
    "# 🐷 Peppa Maze Variables & Assignments Hacks\n",
    "Welcome to the Peppa Maze hacks! These challenges will test your understanding of variables, assignments, and logic in Javascript. Read each task, then write or modify code to solve it."
   ]
  },
  {
   "cell_type": "markdown",
   "id": "7dee3bb5",
   "metadata": {},
   "source": [
    "## Hack 1: JavaScript - Variable Assignment, Naming, and Operators\n",
    "Create variables for Peppa's name, score, and level using good JavaScript naming conventions. Assign initial values, then use operators to update score (add 10) and level (multiply by 2). Print all results."
   ]
  },
  {
   "cell_type": "code",
   "execution_count": 4,
   "id": "257631c7",
   "metadata": {},
   "outputs": [
    {
     "name": "stdout",
     "output_type": "stream",
     "text": [
      "Name: Peppa\n",
      "Peppa's score: 30\n",
      "Peppa's level: 2\n"
     ]
    }
   ],
   "source": [
    "# Hack 1: Peppa's variables and updates\n",
    "peppa_name = 'Peppa'\n",
    "peppa_score = 20\n",
    "peppa_level = 1\n",
    "print(f\"Name: {peppa_name}\")\n",
    "peppa_score += 10\n",
    "peppa_level *= 2\n",
    "print(f\"Peppa's score: {peppa_score}\")\n",
    "print(f\"Peppa's level: {peppa_level}\")\n"
   ]
  },
  {
   "cell_type": "markdown",
   "id": "3f8a5cbe",
   "metadata": {},
   "source": [
    "## Hack 2: JavaScript - Variable Declaration, Assignment, and Operators\n",
    "Declare variables for Peppa and George's scores using good JavaScript naming conventions. Assign initial values, then use operators to update both scores (e.g., Peppa gets 15 points, George loses 5 points). Print both scores."
   ]
  },
  {
   "cell_type": "code",
   "execution_count": 5,
   "id": "9b350433",
   "metadata": {},
   "outputs": [
    {
     "name": "stdout",
     "output_type": "stream",
     "text": [
      "Peppa's score: 45\n",
      "George's score: 20\n"
     ]
    }
   ],
   "source": [
    "# Hack 2: Peppa and George scores updates\n",
    "peppa_score = 30\n",
    "george_score = 25\n",
    "peppa_score += 15\n",
    "george_score -= 5\n",
    "print(f\"Peppa's score: {peppa_score}\")\n",
    "print(f\"George's score: {george_score}\")\n"
   ]
  },
  {
   "cell_type": "markdown",
   "id": "30580c24",
   "metadata": {},
   "source": [
    "## Hack 3: JavaScript - Multiple Assignment and Math Operators\n",
    "Peppa and George both start at level 1. Use a single line to assign both their levels to 5. Then, calculate a combined score by multiplying their levels together and multiplying by 10. Print all results."
   ]
  },
  {
   "cell_type": "code",
   "execution_count": null,
   "id": "d833892e",
   "metadata": {},
   "outputs": [],
   "source": [
    "# Hack 3: Multiple assignment and combined score\n",
    "peppa_level = 1\n",
    "george_level = 1\n",
    "peppa_level = george_level = 5\n",
    "combined_score = peppa_level * george_level * 10\n",
    "print(f\"Peppa level: {peppa_level}\")\n",
    "print(f\"George level: {george_level}\")\n",
    "print(f\"Combined score: {combined_score}\")\n"
   ]
  }
 ],
 "metadata": {
  "kernelspec": {
   "display_name": "venv (3.12.11)",
   "language": "python",
   "name": "python3"
  },
  "language_info": {
   "codemirror_mode": {
    "name": "ipython",
    "version": 3
   },
   "file_extension": ".py",
   "mimetype": "text/x-python",
   "name": "python",
   "nbconvert_exporter": "python",
   "pygments_lexer": "ipython3",
   "version": "3.12.11"
  }
 },
 "nbformat": 4,
 "nbformat_minor": 5
}
