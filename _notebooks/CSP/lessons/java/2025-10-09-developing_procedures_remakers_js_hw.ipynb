{
 "cells": [
  {
   "cell_type": "raw",
   "id": "347e901f",
   "metadata": {
    "vscode": {
     "languageId": "raw"
    }
   },
   "source": [
    "---\n",
    "toc: true\n",
    "layout: post\n",
    "categories: [JavaScript]\n",
    "title: Remakers - 3.13 Developing Procedures JS Hacks\n",
    "description: \"Apply your skills to basic procedure development in Javascript.\"\n",
    "permalink: /javascript/developing-procedures/remakers-hw\n",
    "author: Krishna Visvanath, Sloane Sommers\n",
    "---"
   ]
  },
  {
   "cell_type": "raw",
   "id": "38483feb",
   "metadata": {
    "vscode": {
     "languageId": "raw"
    }
   },
   "source": [
    "### Q1 (Easy)\n",
    "Which of these procedures is named wrong, provide a **short** explanation of justification"
   ]
  },
  {
   "cell_type": "code",
   "execution_count": 1,
   "id": "690e6f19",
   "metadata": {},
   "outputs": [
    {
     "ename": "SyntaxError",
     "evalue": "unterminated string literal (detected at line 3) (2313622390.py, line 3)",
     "output_type": "error",
     "traceback": [
      "  \u001b[36mCell\u001b[39m\u001b[36m \u001b[39m\u001b[32mIn[1]\u001b[39m\u001b[32m, line 3\u001b[39m\n\u001b[31m    \u001b[39m\u001b[31m`doIt` is the worst name because it doesn't describe what the procedure does. Good procedure names should describe the action (for example: `mixIngredients` or `makeLeftTurn`).\u001b[39m\n                                             ^\n\u001b[31mSyntaxError\u001b[39m\u001b[31m:\u001b[39m unterminated string literal (detected at line 3)\n"
     ]
    }
   ],
   "source": [
    "**Answer:**\n",
    "\n",
    "`doIt` is the worst name because it doesn't describe what the procedure does. Good procedure names should describe the action (for example: `mixIngredients` or `makeLeftTurn`).\n",
    "\n",
    "`mixIngredients` and `makeLeftTurn` are fine because their names describe the behavior; `doIt` is ambiguous."
   ]
  },
  {
   "cell_type": "markdown",
   "id": "bff45a3e",
   "metadata": {},
   "source": [
    "**Explanation Here:**\n",
    "__ is right because.."
   ]
  },
  {
   "cell_type": "markdown",
   "id": "e5480b09",
   "metadata": {},
   "source": [
    "### Q2 (Medium)\n",
    "Finish the code to have a correctly named procedure"
   ]
  },
  {
   "cell_type": "code",
   "execution_count": 2,
   "id": "4bc531e4",
   "metadata": {
    "vscode": {
     "languageId": "javascript"
    }
   },
   "outputs": [
    {
     "data": {
      "application/javascript": "(function(){\n  const out = [];\n\n  function moveForward(){\n    out.push('Moving forward.');\n  }\n\n  function rotateLeft(){\n    out.push('Turning left');\n  }\n\n  function moveForwardAgain(){\n    out.push('Moving forward again to complete left turn.');\n  }\n\n  function makeLeftTurn(){\n    moveForward();\n    rotateLeft();\n    moveForwardAgain();\n  }\n\n  // Run the procedure\n  makeLeftTurn();\n\n  const pre = document.createElement('pre');\n  pre.textContent = out.join('\\n');\n  element.append(pre);\n})();\n",
      "text/plain": [
       "<IPython.core.display.Javascript object>"
      ]
     },
     "metadata": {},
     "output_type": "display_data"
    }
   ],
   "source": [
    "%%javascript\n",
    "(function(){\n",
    "  const out = [];\n",
    "\n",
    "  function moveForward(){\n",
    "    out.push('Moving forward.');\n",
    "  }\n",
    "\n",
    "  function rotateLeft(){\n",
    "    out.push('Turning left');\n",
    "  }\n",
    "\n",
    "  function moveForwardAgain(){\n",
    "    out.push('Moving forward again to complete left turn.');\n",
    "  }\n",
    "\n",
    "  function makeLeftTurn(){\n",
    "    moveForward();\n",
    "    rotateLeft();\n",
    "    moveForwardAgain();\n",
    "  }\n",
    "\n",
    "  // Run the procedure\n",
    "  makeLeftTurn();\n",
    "\n",
    "  const pre = document.createElement('pre');\n",
    "  pre.textContent = out.join('\\n');\n",
    "  element.append(pre);\n",
    "})();"
   ]
  },
  {
   "cell_type": "code",
   "execution_count": 3,
   "id": "d6c06eb0",
   "metadata": {
    "vscode": {
     "languageId": "javascript"
    }
   },
   "outputs": [
    {
     "ename": "SyntaxError",
     "evalue": "invalid character '🕺' (U+1F57A) (631791891.py, line 3)",
     "output_type": "error",
     "traceback": [
      "  \u001b[36mCell\u001b[39m\u001b[36m \u001b[39m\u001b[32mIn[3]\u001b[39m\u001b[32m, line 3\u001b[39m\n\u001b[31m    \u001b[39m\u001b[31mDoing a dance! 🕺💃\u001b[39m\n                   ^\n\u001b[31mSyntaxError\u001b[39m\u001b[31m:\u001b[39m invalid character '🕺' (U+1F57A)\n"
     ]
    }
   ],
   "source": [
    "### Q3 (Hard)\n",
    "Write code to fulfill the requirements\n",
    "Doing a dance! 🕺💃\n",
    "Must have\n",
    "1. A shimmy left procedure\n",
    "- Print `super cool left slide`\n",
    "2. A shimmy right procedure, print `even cooler right slide`\n",
    "3. Doing a bow to the crowd, print `Great dance!`, `the audience claps at your bow!`"
   ]
  },
  {
   "cell_type": "code",
   "execution_count": 4,
   "id": "818139d1",
   "metadata": {
    "vscode": {
     "languageId": "javascript"
    }
   },
   "outputs": [
    {
     "data": {
      "application/javascript": "(function(){\n  const out = [];\n\n  function shimmyLeft(){\n    out.push('super cool left slide');\n  }\n\n  function shimmyRight(){\n    out.push('even cooler right slide');\n  }\n\n  function bow(){\n    out.push('Great dance!');\n    out.push('the audience claps at your bow!');\n  }\n\n  // Perform the dance\n  shimmyLeft();\n  shimmyRight();\n  bow();\n\n  const pre = document.createElement('pre');\n  pre.textContent = out.join('\\n');\n  element.append(pre);\n})();\n",
      "text/plain": [
       "<IPython.core.display.Javascript object>"
      ]
     },
     "metadata": {},
     "output_type": "display_data"
    }
   ],
   "source": [
    "%%javascript\n",
    "(function(){\n",
    "  const out = [];\n",
    "\n",
    "  function shimmyLeft(){\n",
    "    out.push('super cool left slide');\n",
    "  }\n",
    "\n",
    "  function shimmyRight(){\n",
    "    out.push('even cooler right slide');\n",
    "  }\n",
    "\n",
    "  function bow(){\n",
    "    out.push('Great dance!');\n",
    "    out.push('the audience claps at your bow!');\n",
    "  }\n",
    "\n",
    "  // Perform the dance\n",
    "  shimmyLeft();\n",
    "  shimmyRight();\n",
    "  bow();\n",
    "\n",
    "  const pre = document.createElement('pre');\n",
    "  pre.textContent = out.join('\\n');\n",
    "  element.append(pre);\n",
    "})();"
   ]
  }
 ],
 "metadata": {
  "kernelspec": {
   "display_name": "venv (3.12.11)",
   "language": "python",
   "name": "python3"
  },
  "language_info": {
   "codemirror_mode": {
    "name": "ipython",
    "version": 3
   },
   "file_extension": ".py",
   "mimetype": "text/x-python",
   "name": "python",
   "nbconvert_exporter": "python",
   "pygments_lexer": "ipython3",
   "version": "3.12.11"
  }
 },
 "nbformat": 4,
 "nbformat_minor": 5
}
