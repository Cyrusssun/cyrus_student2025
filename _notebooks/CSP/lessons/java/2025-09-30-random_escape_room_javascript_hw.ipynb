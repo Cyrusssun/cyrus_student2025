{
 "cells": [
  {
   "cell_type": "markdown",
   "id": "cbbfb22c",
   "metadata": {},
   "source": [
    "---\n",
    "layout: post\n",
    "title: \"Escape Room 3.15 - Hack\"\n",
    "description: \"Extended Javascript challenges and hacks for CSP 3.15 Escape Room - Random Values\"\n",
    "type: hacks\n",
    "toc: true\n",
    "comments: true\n",
    "permalink: /3.15/homework/javascript\n",
    "author: Team Debuggers\n",
    "---"
   ]
  },
  {
   "cell_type": "markdown",
   "id": "9f78ed1b",
   "metadata": {},
   "source": [
    "# 🚀 Escape Room Javascript Hacks"
   ]
  },
  {
   "cell_type": "markdown",
   "id": "8272187c",
   "metadata": {
    "vscode": {
     "languageId": "javascript"
    }
   },
   "source": [
    "1. Simulate drawing two random cards, where each card has a value between 1 and 10. Show the two card values and their total.\n"
   ]
  },
  {
   "cell_type": "code",
   "execution_count": 1,
   "id": "78a936d8",
   "metadata": {
    "vscode": {
     "languageId": "javascript"
    }
   },
   "outputs": [
    {
     "data": {
      "application/javascript": "(function(){\n  // 🎴 Simulate drawing two random cards between 1 and 10\n  function rand1to10(){ return Math.floor(Math.random()*10) + 1; }\n  let card1 = rand1to10();\n  let card2 = rand1to10();\n  let total = card1 + card2;\n  const out = ['Card 1: ' + card1, 'Card 2: ' + card2, 'Total: ' + total].join('\\n');\n  const pre = document.createElement('pre'); pre.textContent = out; element.append(pre);\n})();\n",
      "text/plain": [
       "<IPython.core.display.Javascript object>"
      ]
     },
     "metadata": {},
     "output_type": "display_data"
    }
   ],
   "source": [
    "%%javascript\n",
    "(function(){\n",
    "  // 🎴 Simulate drawing two random cards between 1 and 10\n",
    "  function rand1to10(){ return Math.floor(Math.random()*10) + 1; }\n",
    "  let card1 = rand1to10();\n",
    "  let card2 = rand1to10();\n",
    "  let total = card1 + card2;\n",
    "  const out = ['Card 1: ' + card1, 'Card 2: ' + card2, 'Total: ' + total].join('\\n');\n",
    "  const pre = document.createElement('pre'); pre.textContent = out; element.append(pre);\n",
    "})();"
   ]
  },
  {
   "cell_type": "markdown",
   "id": "1d1e615b",
   "metadata": {},
   "source": [
    "2. Create a decision maker where \"Definitely\" appears 30% of the time"
   ]
  },
  {
   "cell_type": "code",
   "execution_count": 2,
   "id": "ccb86ba7",
   "metadata": {
    "vscode": {
     "languageId": "javascript"
    }
   },
   "outputs": [
    {
     "data": {
      "application/javascript": "(function(){\n  // 🎲 Decision Maker - \"Definitely\" ~30% chance\n  const rand = Math.floor(Math.random()*100) + 1; // 1..100\n  const out = (rand <= 30) ? 'Definitely' : 'Not this time';\n  const pre = document.createElement('pre'); pre.textContent = out; element.append(pre);\n})();\n",
      "text/plain": [
       "<IPython.core.display.Javascript object>"
      ]
     },
     "metadata": {},
     "output_type": "display_data"
    }
   ],
   "source": [
    "%%javascript\n",
    "(function(){\n",
    "  // 🎲 Decision Maker - \"Definitely\" ~30% chance\n",
    "  const rand = Math.floor(Math.random()*100) + 1; // 1..100\n",
    "  const out = (rand <= 30) ? 'Definitely' : 'Not this time';\n",
    "  const pre = document.createElement('pre'); pre.textContent = out; element.append(pre);\n",
    "})();"
   ]
  },
  {
   "cell_type": "markdown",
   "id": "3a1307fb",
   "metadata": {},
   "source": [
    "3. Simulate one coin flip and one dice roll.\n",
    "\n",
    "- The coin flip should be 0 = Heads or 1 = Tails.\n",
    "\n",
    "- The dice roll should be a number between 1 and 6.\n",
    "\n",
    "- Print out both results."
   ]
  },
  {
   "cell_type": "code",
   "execution_count": 3,
   "id": "5757bb69",
   "metadata": {
    "vscode": {
     "languageId": "javascript"
    }
   },
   "outputs": [
    {
     "data": {
      "application/javascript": "(function(){\n  // 🪙 Coin flip (0=heads,1=tails) and dice roll (1..6)\n  const coin = Math.floor(Math.random()*2); // 0 or 1\n  const coinText = coin === 0 ? 'Heads' : 'Tails';\n  const dice = Math.floor(Math.random()*6) + 1; // 1..6\n  const out = ['Coin flip: ' + coinText + ' (' + coin + ')', 'Dice roll: ' + dice].join('\\n');\n  const pre = document.createElement('pre'); pre.textContent = out; element.append(pre);\n})();\n",
      "text/plain": [
       "<IPython.core.display.Javascript object>"
      ]
     },
     "metadata": {},
     "output_type": "display_data"
    }
   ],
   "source": [
    "%%javascript\n",
    "(function(){\n",
    "  // 🪙 Coin flip (0=heads,1=tails) and dice roll (1..6)\n",
    "  const coin = Math.floor(Math.random()*2); // 0 or 1\n",
    "  const coinText = coin === 0 ? 'Heads' : 'Tails';\n",
    "  const dice = Math.floor(Math.random()*6) + 1; // 1..6\n",
    "  const out = ['Coin flip: ' + coinText + ' (' + coin + ')', 'Dice roll: ' + dice].join('\\n');\n",
    "  const pre = document.createElement('pre'); pre.textContent = out; element.append(pre);\n",
    "})();"
   ]
  },
  {
   "cell_type": "markdown",
   "id": "8b49e277",
   "metadata": {},
   "source": [
    "4. Write code that randomly picks one fortune from a list of 5 possible fortunes and prints it out."
   ]
  },
  {
   "cell_type": "code",
   "execution_count": 4,
   "id": "dd613a02",
   "metadata": {
    "vscode": {
     "languageId": "javascript"
    }
   },
   "outputs": [
    {
     "data": {
      "application/javascript": "(function(){\n  // 🔮 Random Fortune Generator\n  const fortunes = [\n    \"You will find a lucky coin today.\",\n    \"A friend will make you smile.\",\n    \"Practice makes progress - keep going.\",\n    \"An opportunity will appear soon.\",\n    \"A small surprise will brighten your day.\"\n  ];\n  const index = Math.floor(Math.random()*fortunes.length);\n  const pre = document.createElement('pre'); pre.textContent = 'Your fortune: ' + fortunes[index]; element.append(pre);\n})();\n",
      "text/plain": [
       "<IPython.core.display.Javascript object>"
      ]
     },
     "metadata": {},
     "output_type": "display_data"
    }
   ],
   "source": [
    "%%javascript\n",
    "(function(){\n",
    "  // 🔮 Random Fortune Generator\n",
    "  const fortunes = [\n",
    "    \"You will find a lucky coin today.\",\n",
    "    \"A friend will make you smile.\",\n",
    "    \"Practice makes progress - keep going.\",\n",
    "    \"An opportunity will appear soon.\",\n",
    "    \"A small surprise will brighten your day.\"\n",
    "  ];\n",
    "  const index = Math.floor(Math.random()*fortunes.length);\n",
    "  const pre = document.createElement('pre'); pre.textContent = 'Your fortune: ' + fortunes[index]; element.append(pre);\n",
    "})();"
   ]
  }
 ],
 "metadata": {
  "kernelspec": {
   "display_name": "venv (3.12.11)",
   "language": "python",
   "name": "python3"
  },
  "language_info": {
   "codemirror_mode": {
    "name": "ipython",
    "version": 3
   },
   "file_extension": ".py",
   "mimetype": "text/x-python",
   "name": "python",
   "nbconvert_exporter": "python",
   "pygments_lexer": "ipython3",
   "version": "3.12.11"
  }
 },
 "nbformat": 4,
 "nbformat_minor": 5
}
