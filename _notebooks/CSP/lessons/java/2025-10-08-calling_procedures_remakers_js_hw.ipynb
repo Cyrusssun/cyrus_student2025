{
 "cells": [
  {
   "cell_type": "raw",
   "id": "7b98ce38",
   "metadata": {
    "vscode": {
     "languageId": "raw"
    }
   },
   "source": [
    "---\n",
    "toc: true\n",
    "comments: false\n",
    "layout: post\n",
    "categories: [CSP Big Idea 3]\n",
    "title: 3.12 Calling Procedures JavaScript Hacks\n",
    "author: Sathwik Kintada\n",
    "description: 3.12 Calling Procedures JS hacks\n",
    "permalink: /csp/big-idea-3/calling-procedures/p4/hw-js\n",
    "---"
   ]
  },
  {
   "cell_type": "markdown",
   "id": "160c3d0a",
   "metadata": {},
   "source": [
    "\n",
    "# 3.12 Calling Procedures Homework in JavaScript\n",
    "\n",
    "Complete the 4 tasks below as homework:\n",
    "\n",
    "1. Create the functions \n",
    "2. Run the Code cell\n",
    "4. Have fun!\n"
   ]
  },
  {
   "cell_type": "markdown",
   "id": "ebf0a264",
   "metadata": {},
   "source": [
    "**Hack — Example 1: Simple function with no parameters**"
   ]
  },
  {
   "cell_type": "code",
   "execution_count": null,
   "id": "112c4252",
   "metadata": {
    "vscode": {
     "languageId": "javascript"
    }
   },
   "outputs": [],
   "source": [
    "%%javascript\n",
    "(function(){\n",
    "  const out = [];\n",
    "  function sayHello(){\n",
    "    out.push('Hello there!');\n",
    "  }\n",
    "  sayHello();\n",
    "  const pre = document.createElement('pre');\n",
    "  pre.textContent = out.join('\\n');\n",
    "  element.append(pre);\n",
    "})();"
   ]
  },
  {
   "cell_type": "markdown",
   "id": "17ab185e",
   "metadata": {},
   "source": [
    "- Does the code run as expected?\n",
    "- If yes, move on to the next hack."
   ]
  },
  {
   "cell_type": "markdown",
   "id": "e9083de7",
   "metadata": {},
   "source": [
    "**Hack — Example 2: Function with one parameter**"
   ]
  },
  {
   "cell_type": "code",
   "execution_count": null,
   "id": "5575c3fd",
   "metadata": {
    "vscode": {
     "languageId": "javascript"
    }
   },
   "outputs": [],
   "source": [
    "%%javascript\n",
    "(function(){\n",
    "  const out = [];\n",
    "  function greet(name){\n",
    "    out.push(`Welcome, ${name}!`);\n",
    "  }\n",
    "  greet('Cyrus');\n",
    "  const pre = document.createElement('pre');\n",
    "  pre.textContent = out.join('\\n');\n",
    "  element.append(pre);\n",
    "})();"
   ]
  },
  {
   "cell_type": "markdown",
   "id": "42d3e631",
   "metadata": {},
   "source": [
    "- Does your code properly greet the person?\n",
    "- Are there no errors in your code?\n",
    "- If yes, move on to the next hack."
   ]
  },
  {
   "cell_type": "markdown",
   "id": "501df5a2",
   "metadata": {},
   "source": [
    "**Hack — Example 3: Function with two parameters**"
   ]
  },
  {
   "cell_type": "code",
   "execution_count": 1,
   "id": "342675e4",
   "metadata": {
    "vscode": {
     "languageId": "javascript"
    }
   },
   "outputs": [
    {
     "data": {
      "application/javascript": "(function(){\n  const out = [];\n  function addNumbers(a, b){\n    return a + b;\n  }\n  const sum = addNumbers(7, 5);\n  out.push(`7 + 5 = ${sum}`);\n  const pre = document.createElement('pre');\n  pre.textContent = out.join('\\n');\n  element.append(pre);\n})();\n",
      "text/plain": [
       "<IPython.core.display.Javascript object>"
      ]
     },
     "metadata": {},
     "output_type": "display_data"
    }
   ],
   "source": [
    "%%javascript\n",
    "(function(){\n",
    "  const out = [];\n",
    "  function addNumbers(a, b){\n",
    "    return a + b;\n",
    "  }\n",
    "  const sum = addNumbers(7, 5);\n",
    "  out.push(`7 + 5 = ${sum}`);\n",
    "  const pre = document.createElement('pre');\n",
    "  pre.textContent = out.join('\\n');\n",
    "  element.append(pre);\n",
    "})();"
   ]
  },
  {
   "cell_type": "markdown",
   "id": "aec74a73",
   "metadata": {},
   "source": [
    "- Does addNumbers(3, 7) give 10?\n",
    "- Does it work for other numbers too?\n",
    "- If yes, move on to the next hack."
   ]
  },
  {
   "cell_type": "markdown",
   "id": "05f1bdf5",
   "metadata": {},
   "source": [
    "**Hack — Example 4: Function that returns a value**"
   ]
  },
  {
   "cell_type": "code",
   "execution_count": 2,
   "id": "8a91b5b9",
   "metadata": {
    "vscode": {
     "languageId": "javascript"
    }
   },
   "outputs": [
    {
     "data": {
      "application/javascript": "(function(){\n  const out = [];\n  function factorial(n){\n    if(n < 0) return null;\n    let result = 1;\n    for(let i = 2; i <= n; i++) result *= i;\n    return result;\n  }\n  out.push(`factorial(5) = ${factorial(5)}`);\n  out.push(`factorial(0) = ${factorial(0)}`);\n  const pre = document.createElement('pre');\n  pre.textContent = out.join('\\n');\n  element.append(pre);\n})();\n",
      "text/plain": [
       "<IPython.core.display.Javascript object>"
      ]
     },
     "metadata": {},
     "output_type": "display_data"
    }
   ],
   "source": [
    "%%javascript\n",
    "(function(){\n",
    "  const out = [];\n",
    "  function factorial(n){\n",
    "    if(n < 0) return null;\n",
    "    let result = 1;\n",
    "    for(let i = 2; i <= n; i++) result *= i;\n",
    "    return result;\n",
    "  }\n",
    "  out.push(`factorial(5) = ${factorial(5)}`);\n",
    "  out.push(`factorial(0) = ${factorial(0)}`);\n",
    "  const pre = document.createElement('pre');\n",
    "  pre.textContent = out.join('\\n');\n",
    "  element.append(pre);\n",
    "})();"
   ]
  },
  {
   "cell_type": "markdown",
   "id": "f2c9f82a",
   "metadata": {},
   "source": [
    "- Does factorial(0) return 1?\n",
    "- Does factorial(1) return 1?\n",
    "- Does factorial(5) return 120?\n",
    "- If yes, move on to the next hack."
   ]
  },
  {
   "cell_type": "markdown",
   "id": "4a7a8ee2",
   "metadata": {},
   "source": [
    "**Hack - Challenge Example 5: Function calling another function**"
   ]
  },
  {
   "cell_type": "code",
   "execution_count": 3,
   "id": "1c57fa10",
   "metadata": {
    "vscode": {
     "languageId": "javascript"
    }
   },
   "outputs": [
    {
     "data": {
      "application/javascript": "(function(){\n  const out = [];\n  const storeItems = {\n    'apple': 0.5,\n    'banana': 0.25,\n    'cereal': 3.5,\n    'milk': 2.0,\n    'bread': 2.5\n  };\n\n  function getSubtotal(cart){\n    let subtotal = 0;\n    for(const item in cart){\n      const qty = cart[item];\n      const price = storeItems[item] || 0;\n      subtotal += price * qty;\n    }\n    return subtotal;\n  }\n\n  function addTax(subtotal, taxRate){\n    return subtotal * (1 + taxRate);\n  }\n\n  function checkout(cart, taxRate){\n    const subtotal = getSubtotal(cart);\n    const total = addTax(subtotal, taxRate);\n    out.push(`Subtotal: $${subtotal.toFixed(2)}`);\n    out.push(`Total (tax ${Math.round(taxRate*100)}%): $${total.toFixed(2)}`);\n    return total;\n  }\n\n  const myCart = {'apple': 4, 'cereal': 1, 'milk': 1};\n  checkout(myCart, 0.08);\n\n  const pre = document.createElement('pre');\n  pre.textContent = out.join('\\n');\n  element.append(pre);\n})();\n",
      "text/plain": [
       "<IPython.core.display.Javascript object>"
      ]
     },
     "metadata": {},
     "output_type": "display_data"
    }
   ],
   "source": [
    "%%javascript\n",
    "(function(){\n",
    "  const out = [];\n",
    "  const storeItems = {\n",
    "    'apple': 0.5,\n",
    "    'banana': 0.25,\n",
    "    'cereal': 3.5,\n",
    "    'milk': 2.0,\n",
    "    'bread': 2.5\n",
    "  };\n",
    "\n",
    "  function getSubtotal(cart){\n",
    "    let subtotal = 0;\n",
    "    for(const item in cart){\n",
    "      const qty = cart[item];\n",
    "      const price = storeItems[item] || 0;\n",
    "      subtotal += price * qty;\n",
    "    }\n",
    "    return subtotal;\n",
    "  }\n",
    "\n",
    "  function addTax(subtotal, taxRate){\n",
    "    return subtotal * (1 + taxRate);\n",
    "  }\n",
    "\n",
    "  function checkout(cart, taxRate){\n",
    "    const subtotal = getSubtotal(cart);\n",
    "    const total = addTax(subtotal, taxRate);\n",
    "    out.push(`Subtotal: $${subtotal.toFixed(2)}`);\n",
    "    out.push(`Total (tax ${Math.round(taxRate*100)}%): $${total.toFixed(2)}`);\n",
    "    return total;\n",
    "  }\n",
    "\n",
    "  const myCart = {'apple': 4, 'cereal': 1, 'milk': 1};\n",
    "  checkout(myCart, 0.08);\n",
    "\n",
    "  const pre = document.createElement('pre');\n",
    "  pre.textContent = out.join('\\n');\n",
    "  element.append(pre);\n",
    "})();"
   ]
  },
  {
   "cell_type": "markdown",
   "id": "3994dc3f",
   "metadata": {},
   "source": [
    "- If the shopping cart contains 2 apples, 1 milk, and 1 bread, will your program show a subtotal of $8.00 and a total of $8.64 with an 8% tax rate?\n",
    "- Try changing the cart to 3 bananas and 2 milk — should the subtotal be $10.25 and the total with 8% tax be $11.07?\n",
    "- If your output matches these totals, your function calls and calculations are correct!"
   ]
  }
 ],
 "metadata": {
  "kernelspec": {
   "display_name": "venv (3.12.11)",
   "language": "python",
   "name": "python3"
  },
  "language_info": {
   "codemirror_mode": {
    "name": "ipython",
    "version": 3
   },
   "file_extension": ".py",
   "mimetype": "text/x-python",
   "name": "python",
   "nbconvert_exporter": "python",
   "pygments_lexer": "ipython3",
   "version": "3.12.11"
  }
 },
 "nbformat": 4,
 "nbformat_minor": 5
}
