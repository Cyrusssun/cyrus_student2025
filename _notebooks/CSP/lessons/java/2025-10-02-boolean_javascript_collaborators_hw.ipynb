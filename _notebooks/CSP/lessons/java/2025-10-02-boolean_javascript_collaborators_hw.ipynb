{
 "cells": [
  {
   "cell_type": "markdown",
   "id": "752599c8",
   "metadata": {},
   "source": [
    "---\n",
    "layout: post\n",
    "title: Boolean Expressions and Logic Homework\n",
    "description: Quick practice with Boolean Expressions and Logic\n",
    "permalink: /csp/python/booleanexpressionsjavascript/collaborators/homework\n",
    "authors: Virginia Z, Vivian Z\n",
    "---"
   ]
  },
  {
   "cell_type": "markdown",
   "id": "24ec0689",
   "metadata": {},
   "source": [
    "## 📘 AP CSP Unit 3.5 Boolean Expressions Homework (JavaScript)\n",
    "### Part A: Write Boolean Expressions\n",
    "Write Boolean expressions for the following situations. Use && (and), || (or), and ! (not).\n",
    "1. You can watch a movie if you finished your homework and your age is at least 13.\n",
    "2. You can get dessert if you ordered dinner or your parent says yes.\n",
    "3. You can go outside if it is not raining and the temperature is greater than 60.\n",
    "4. A student is eligible for a discount if they are a student and their age is less than 18."
   ]
  },
  {
   "cell_type": "code",
   "execution_count": 4,
   "id": "d2255033",
   "metadata": {},
   "outputs": [
    {
     "name": "stdout",
     "output_type": "stream",
     "text": [
      "True\n",
      "True\n",
      "True\n",
      "True\n"
     ]
    }
   ],
   "source": [
    "# Part A: Boolean expressions (Python equivalents with sample values)\n",
    "finishedHomework = True\n",
    "age = 14\n",
    "orderedDinner = False\n",
    "parentSaysYes = True\n",
    "isRaining = False\n",
    "temperature = 65\n",
    "isStudent = True\n",
    "print(finishedHomework and age >= 13)\n",
    "print(orderedDinner or parentSaysYes)\n",
    "print((not isRaining) and temperature > 60)\n",
    "print(isStudent and age < 18)\n"
   ]
  },
  {
   "cell_type": "markdown",
   "id": "d83cb905",
   "metadata": {},
   "source": [
    "### Part B: Predict the Output\n",
    "What will each of these expressions evaluate to in JavaScript? (true or false)\n",
    "```javascript\n",
    "1. (5 > 3) && (10 < 20)\n",
    "2. (7 === 7) || (4 > 10)\n",
    "3. !(false) && (3 <= 3)\n",
    "4. (true || false) && !(5 === \"5\")\n",
    "5. (12 % 2 === 0) && (15 % 2 === 1)\n",
    "```\n"
   ]
  },
  {
   "cell_type": "code",
   "execution_count": 3,
   "id": "95b39e09",
   "metadata": {},
   "outputs": [
    {
     "name": "stdout",
     "output_type": "stream",
     "text": [
      "True\n",
      "True\n",
      "True\n",
      "True\n",
      "True\n"
     ]
    }
   ],
   "source": [
    "# Part B: Evaluate expressions (Python equivalents)\n",
    "print((5 > 3) and (10 < 20))\n",
    "print((7 == 7) or (4 > 10))\n",
    "print((not False) and (3 <= 3))\n",
    "print((True or False) and not (5 == \"5\"))\n",
    "print((12 % 2 == 0) and (15 % 2 == 1))\n"
   ]
  },
  {
   "cell_type": "markdown",
   "id": "c2ddca01",
   "metadata": {},
   "source": [
    "### Part C: Debugging\n",
    "Some students wrote Boolean expressions but made mistakes. Fix the errors.\n",
    "1. if (x > 10 and y < 5)\n",
    "2. if (not isOnline)\n",
    "3. if (age => 16 || hasLicense)"
   ]
  },
  {
   "cell_type": "code",
   "execution_count": null,
   "id": "d7bc6e65",
   "metadata": {},
   "outputs": [
    {
     "ename": "SyntaxError",
     "evalue": "invalid syntax (737591433.py, line 1)",
     "output_type": "error",
     "traceback": [
      "  \u001b[36mCell\u001b[39m\u001b[36m \u001b[39m\u001b[32mIn[1]\u001b[39m\u001b[32m, line 1\u001b[39m\n\u001b[31m    \u001b[39m\u001b[31m// Part C: Fixed expressions\u001b[39m\n    ^\n\u001b[31mSyntaxError\u001b[39m\u001b[31m:\u001b[39m invalid syntax\n"
     ]
    }
   ],
   "source": [
    "# Part C: Fixed expressions (Python syntax) with sample values\n",
    "x = 12\n",
    "y = 3\n",
    "if x > 10 and y < 5:\n",
    "    print(\"Condition 1 true\")\n",
    "isOnline = False\n",
    "if not isOnline:\n",
    "    print(\"Condition 2 true\")\n",
    "age = 17\n",
    "hasLicense = False\n",
    "if age >= 16 or hasLicense:\n",
    "    print(\"Condition 3 true\")\n"
   ]
  }
 ],
 "metadata": {
  "kernelspec": {
   "display_name": "venv (3.12.11)",
   "language": "python",
   "name": "python3"
  },
  "language_info": {
   "codemirror_mode": {
    "name": "ipython",
    "version": 3
   },
   "file_extension": ".py",
   "mimetype": "text/x-python",
   "name": "python",
   "nbconvert_exporter": "python",
   "pygments_lexer": "ipython3",
   "version": "3.12.11"
  }
 },
 "nbformat": 4,
 "nbformat_minor": 5
}
