{
 "cells": [
  {
   "cell_type": "code",
   "execution_count": null,
   "id": "cdcf93f8",
   "metadata": {},
   "outputs": [],
   "source": [
    "---\n",
    "layout: post\n",
    "title: Coding Concept - Lists\n",
    "description: Understanding Lists in Python and JavaScript\n",
    "permalink: /csp/big-idea-three/lists/javascript/hw/p3/syntaxterrors\n",
    "author: Meryl C\n",
    "---"
   ]
  },
  {
   "cell_type": "markdown",
   "id": "7782d012",
   "metadata": {
    "vscode": {
     "languageId": "javascript"
    }
   },
   "source": [
    "<div align=\"center\" style=\"margin-bottom: 2em;\">\n",
    "  <a href=\"{{ site.baseurl }}/csp/big-idea-three/lists/lesson/p3/syntaxterrors\"\n",
    "     style=\"\n",
    "      display: inline-block;\n",
    "      background: linear-gradient(90deg, #2563eb 0%, #1e40af 100%);\n",
    "      color: white;\n",
    "      padding: 0.85em 2.2em;\n",
    "      border-radius: 0.6em;\n",
    "      font-weight: bold;\n",
    "      text-decoration: none;\n",
    "      font-size: 1.15em;\n",
    "      box-shadow: 0 4px 16px rgba(30,64,175,0.18), 0 1.5px 4px rgba(0,0,0,0.10);\n",
    "      transition: \n",
    "        background 0.2s,\n",
    "        transform 0.15s,\n",
    "        box-shadow 0.2s;\n",
    "    \"\n",
    "    onmouseover=\"this.style.transform='scale(1.045)'; this.style.boxShadow='0 8px 24px rgba(30,64,175,0.22), 0 2px 8px rgba(0,0,0,0.13)';\"\n",
    "    onmouseout=\"this.style.transform='scale(1)'; this.style.boxShadow='0 4px 16px rgba(30,64,175,0.18), 0 1.5px 4px rgba(0,0,0,0.10)';\"\n",
    "  >\n",
    "    Lists Lesson\n",
    "  </a>\n",
    "</div>"
   ]
  },
  {
   "cell_type": "code",
   "execution_count": 4,
   "id": "099dbffe",
   "metadata": {
    "vscode": {
     "languageId": "javascript"
    }
   },
   "outputs": [
    {
     "ename": "SyntaxError",
     "evalue": "invalid syntax (1804594727.py, line 1)",
     "output_type": "error",
     "traceback": [
      "  \u001b[36mCell\u001b[39m\u001b[36m \u001b[39m\u001b[32mIn[4]\u001b[39m\u001b[32m, line 1\u001b[39m\n\u001b[31m    \u001b[39m\u001b[31mlet snake = [\"H\", \"B\", \"B\", \"B\", \"T\"];\u001b[39m\n        ^\n\u001b[31mSyntaxError\u001b[39m\u001b[31m:\u001b[39m invalid syntax\n"
     ]
    }
   ],
   "source": [
    "\n",
    "let snake = [\"H\", \"B\", \"B\", \"B\", \"T\"];\n",
    "\n",
    "console.log(\"Starting snake:\", snake);\n",
    "\n",
    "\n",
    "\n",
    "snake.push(\"T\");\n",
    "snake.push(\"T\");\n",
    "\n",
    "console.log(\"Snake after eating:\", snake);\n",
    "\n",
    "\n",
    "\n",
    "snake.pop();\n",
    "snake.pop();\n",
    "\n",
    "console.log(\"Snake after losing tails:\", snake);\n",
    "\n",
    "\n",
    "snake.unshift(\"H\");\n",
    "snake.unshift(\"H\");\n",
    "\n",
    "snake.shift();\n",
    "\n",
    "console.log(\"Snake after moving:\", snake);\n",
    "console.log(\"New first head is:\", snake[0]);\n",
    "\n",
    "\n",
    "\n",
    "\n",
    "snake = [\"H\", \"B\", \"B\", \"T\"];\n",
    "\n",
    "// 1. Add a head at the START (unshift)\n",
    "snake.unshift(\"H\");\n",
    "// 2. Add a tail at the END (push)\n",
    "snake.push(\"T\");\n",
    "\n",
    "snake.splice(2, 1);\n",
    "\n",
    "console.log(\"Final snake:\", snake);\n",
    "console.log(\"First head:\", snake[0]);\n",
    "console.log(\"Last element:\", snake[snake.length - 1]);\n"
   ]
  },
  {
   "cell_type": "code",
   "execution_count": null,
   "id": "4d0e70b3",
   "metadata": {},
   "outputs": [],
   "source": [
    "# Python equivalent of the JS list exercises so this notebook shows output in a Python kernel\n",
    "snake = [\"H\", \"B\", \"B\", \"B\", \"T\"]\n",
    "print(\"Starting snake:\", snake)\n",
    "\n",
    "# Add 2 tails\n",
    "snake.append(\"T\")\n",
    "snake.append(\"T\")\n",
    "print(\"Snake after eating:\", snake)\n",
    "\n",
    "# Remove last 2\n",
    "snake.pop()\n",
    "snake.pop()\n",
    "print(\"Snake after losing tails:\", snake)\n",
    "\n",
    "# Add 2 heads to start and remove 1\n",
    "snake.insert(0, \"H\")\n",
    "snake.insert(0, \"H\")\n",
    "snake.pop(0)\n",
    "print(\"Snake after moving:\", snake)\n",
    "print(\"New first head is:\", snake[0])\n",
    "\n",
    "# Check Your Understanding\n",
    "snake = [\"H\", \"B\", \"B\", \"T\"]\n",
    "snake.insert(0, \"H\")\n",
    "snake.append(\"T\")\n",
    "# remove index 2\n",
    "snake.pop(2)\n",
    "print(\"Final snake:\", snake)\n",
    "print(\"First head:\", snake[0])\n",
    "print(\"Last element:\", snake[-1])\n"
   ]
  }
 ],
 "metadata": {
  "kernelspec": {
   "display_name": "venv (3.12.11)",
   "language": "python",
   "name": "python3"
  },
  "language_info": {
   "codemirror_mode": {
    "name": "ipython",
    "version": 3
   },
   "file_extension": ".py",
   "mimetype": "text/x-python",
   "name": "python",
   "nbconvert_exporter": "python",
   "pygments_lexer": "ipython3",
   "version": "3.12.11"
  }
 },
 "nbformat": 4,
 "nbformat_minor": 5
}
